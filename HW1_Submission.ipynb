{
 "cells": [
  {
   "cell_type": "code",
   "execution_count": null,
   "metadata": {},
   "outputs": [],
   "source": [
    "# There is no need to run this chunk of code.\n",
    "import os\n",
    "wd=''\n",
    "os.chdir(wd)\n",
    "%run HW1_solutions.ipynb"
   ]
  },
  {
   "cell_type": "markdown",
   "metadata": {},
   "source": [
    "## Homework 1 Submission\n",
    "Write your name and surname below:\n",
    "<br>\n",
    "Name:\n",
    "<br>\n",
    "Surname:"
   ]
  },
  {
   "cell_type": "markdown",
   "metadata": {},
   "source": [
    "***Problem 1:*** <br> Write a program that: <br>\n",
    "a. compares the lengths of two texts given below (i.e. the number of characters in each text) <br>\n",
    "b. compares the numbers of words in each text<br>\n",
    "c. calculates the frequency of each word (the number of times the word appears in the text) in each text and puts them in a dictionary <br>\n",
    "d. prints the number of unique words used in each text as a dictionary.\n",
    "<br>\n",
    "Example 1: {\"The legth of text a\": 487,\"The legth of text b\": 562}<br>\n",
    "Example 2: Word frequency- {\"Jovi\":2,\"in\": 4}\n"
   ]
  },
  {
   "cell_type": "code",
   "execution_count": 191,
   "metadata": {},
   "outputs": [],
   "source": [
    "a = 'Bon Jovi is an American rock band formed in 1983 in Sayreville, New Jersey. \\\n",
    "It consists of singer Jon Bon Jovi, keyboardist David Bryan, drummer Tico Torres, \\\n",
    "guitarist PhilX, and bassist Hugh McDonald. Previous bassist Alec John Such was \\\n",
    "dismissed in 1994, and longtime guitarist and co-songwriter Richie Sambora left in 2013.'\n",
    "\n",
    "b = \"Ronald Wilson Reagan (/ˈreɪɡən/; February 6, 1911 – June 5, 2004) \\\n",
    "was an American politician who served as the 40th president of the United \\\n",
    "States from 1981 to 1989. Prior to his presidency, he was a Hollywood actor \\\n",
    "and union leader before serving as the 33rd governor of California from 1967 to 1975.\"\n",
    "\n",
    "\n"
   ]
  },
  {
   "cell_type": "code",
   "execution_count": 215,
   "metadata": {},
   "outputs": [
    {
     "name": "stdout",
     "output_type": "stream",
     "text": [
      "a has more characters than b\n",
      "a and b have equal amount of words\n",
      "{'Bon': 2, 'Jovi': 2, 'is': 1, 'an': 1, 'American': 1, 'rock': 1, 'band': 1, 'formed': 1, 'in': 4, '1983': 1, 'Sayreville': 1, 'New': 1, 'Jersey': 1, 'It': 1, 'consists': 1, 'of': 1, 'singer': 1, 'Jon': 1, 'keyboardist': 1, 'David': 1, 'Bryan': 1, 'drummer': 1, 'Tico': 1, 'Torres': 1, 'guitarist': 2, 'PhilX': 1, 'and': 3, 'bassist': 2, 'Hugh': 1, 'McDonald': 1, 'Previous': 1, 'Alec': 1, 'John': 1, 'Such': 1, 'was': 1, 'dismissed': 1, '1994': 1, 'longtime': 1, 'co-songwriter': 1, 'Richie': 1, 'Sambora': 1, 'left': 1, '2013': 1}\n",
      "{'Ronald': 1, 'Wilson': 1, 'Reagan': 1, 'ˈreɪɡən': 1, 'February': 1, '6': 1, '1911': 1, 'June': 1, '5': 1, '2004': 1, 'was': 2, 'an': 1, 'American': 1, 'politician': 1, 'who': 1, 'served': 1, 'as': 2, 'the': 3, '40th': 1, 'president': 1, 'of': 2, 'United': 1, 'States': 1, 'from': 2, '1981': 1, 'to': 3, '1989': 1, 'Prior': 1, 'his': 1, 'presidency': 1, 'he': 1, 'a': 1, 'Hollywood': 1, 'actor': 1, 'and': 1, 'union': 1, 'leader': 1, 'before': 1, 'serving': 1, '33rd': 1, 'governor': 1, 'California': 1, '1967': 1, '1975': 1}\n",
      "The number of unique words used in a is 34\n",
      "The number of unique words used in b is 30\n"
     ]
    }
   ],
   "source": [
    "#a. compares the lengths of two texts given below (i.e. the number of characters in each text) \n",
    "if len(a) > len(b):\n",
    "    print(\"a has more characters than b\")\n",
    "elif len(a) == len(b):\n",
    "    print(\"a and b have equal amount of characters\")\n",
    "else:\n",
    "    print(\"a has less characters than b\")\n",
    "\n",
    "# b.compares the numbers of words in each text\n",
    "a = a.replace('.', '')\n",
    "a = a.replace(',', '')\n",
    "b = b.replace('.', '')\n",
    "b = b.replace(',', '')\n",
    "b = b.replace(';', '')\n",
    "b = b.replace(')', '')\n",
    "b = b.replace('(', '')\n",
    "b = b.replace('/', '')\n",
    "b = b.replace('–', '')\n",
    "a_words = a.split()\n",
    "b_words = b.split()\n",
    "if len(a_words) > len(b_words):\n",
    "    print(\"a has more words than b\")\n",
    "elif len(a_words) == len(b_words):\n",
    "    print(\"a and b have equal amount of words\")\n",
    "else:\n",
    "    print(\"a has less words than b\")\n",
    "    \n",
    "    \n",
    "word_count_a = {}\n",
    "word_count_b = {}\n",
    "for i in a_words:\n",
    "    word_count_a[i] = a_words.count(i)\n",
    "\n",
    "for j in b_words:\n",
    "    word_count_b[j] = b_words.count(j)\n",
    "    \n",
    "print(word_count_a)\n",
    "print(word_count_b)\n",
    "count_unique_a = 0\n",
    "count_unique_b = 0\n",
    "for j in word_count_a:\n",
    "    if word_count_a[j] == 1 and not j.isdigit():\n",
    "        count_unique_a += 1\n",
    "        \n",
    "for j in word_count_b:\n",
    "    if word_count_b[j] == 1 and not j.isdigit():\n",
    "        count_unique_b += 1\n",
    "\n",
    "print('The number of unique words used in a is', count_unique_a)\n",
    "print('The number of unique words used in b is', count_unique_b)"
   ]
  },
  {
   "cell_type": "markdown",
   "metadata": {},
   "source": [
    "***Problem 13:*** Write a program to calculate the sum of the digits of a number  until it is a single-digit number (Example: **199** -> 1+9+9=**19** -> 1+9=**10** -> 1+0=**1**). Let the program print the result of each step (the bolded numbers in the example). Run the program for 289, 1011, 3333."
   ]
  },
  {
   "cell_type": "code",
   "execution_count": 217,
   "metadata": {},
   "outputs": [
    {
     "name": "stdout",
     "output_type": "stream",
     "text": [
      "6\n"
     ]
    }
   ],
   "source": [
    "def ex13(num):\n",
    "    sum = 0\n",
    "    step = 0\n",
    "    length = str(num)\n",
    "    while step < len(length):\n",
    "        if num >= 10:\n",
    "            r = num%10\n",
    "            num = num//10\n",
    "         \n",
    "        else:\n",
    "            r = num\n",
    "           \n",
    "        \n",
    "        sum = sum + r\n",
    "        step = step + 1\n",
    "    print(sum)\n",
    "        \n",
    "    \n",
    "ex13(123)"
   ]
  },
  {
   "cell_type": "code",
   "execution_count": null,
   "metadata": {},
   "outputs": [],
   "source": []
  },
  {
   "cell_type": "markdown",
   "metadata": {},
   "source": [
    "***Problem 14:*** Write a program to print a chess board where **\"X\"s** are black squares and **\"O\"s** are white ones. Hint: you can use \"end\" parameter of print() function to print on the same line and separate the outputs of different prints by space or any character you want. More on this topic here: https://www.geeksforgeeks.org/gfact-50-python-end-parameter-in-print/.\n",
    "<br>The output should be like this:\n",
    "<img src=\"chess.jpg\" style=\"width: 200px;\">"
   ]
  },
  {
   "cell_type": "code",
   "execution_count": 101,
   "metadata": {},
   "outputs": [],
   "source": [
    "def even():\n",
    "    p = 0\n",
    "    row1 =''\n",
    "    row = '| X |' + ' O '\n",
    "    char = \"-\"\n",
    "    while p <= 4:\n",
    "        row1 += row\n",
    "        p += 1\n",
    "        char += \"--------\"\n",
    "        \n",
    "    print(char)\n",
    "    print(row1 + \"|\")\n",
    "    print(char)\n",
    "    \n",
    "\n",
    "def odd():\n",
    "    p = 0\n",
    "    row1 =''\n",
    "    row = '| O |' + ' X '\n",
    "    while p <= 4:\n",
    "        row1 += row\n",
    "        p += 1\n",
    "    print(row1 + '|')\n",
    "    \n",
    "\n",
    "\n",
    "def ex14():\n",
    "    for i in range(0,8):\n",
    "        if i%2==0:\n",
    "            odd()\n",
    "        else:\n",
    "            even()\n",
    "        "
   ]
  },
  {
   "cell_type": "code",
   "execution_count": 102,
   "metadata": {},
   "outputs": [
    {
     "name": "stdout",
     "output_type": "stream",
     "text": [
      "| O | X | O | X | O | X | O | X | O | X |\n",
      "-----------------------------------------\n",
      "| X | O | X | O | X | O | X | O | X | O |\n",
      "-----------------------------------------\n",
      "| O | X | O | X | O | X | O | X | O | X |\n",
      "-----------------------------------------\n",
      "| X | O | X | O | X | O | X | O | X | O |\n",
      "-----------------------------------------\n",
      "| O | X | O | X | O | X | O | X | O | X |\n",
      "-----------------------------------------\n",
      "| X | O | X | O | X | O | X | O | X | O |\n",
      "-----------------------------------------\n",
      "| O | X | O | X | O | X | O | X | O | X |\n",
      "-----------------------------------------\n",
      "| X | O | X | O | X | O | X | O | X | O |\n",
      "-----------------------------------------\n"
     ]
    }
   ],
   "source": [
    "# There is no need to run this chunk of code.\n",
    "ex14()"
   ]
  },
  {
   "cell_type": "markdown",
   "metadata": {},
   "source": [
    "***Problem 15:*** Write a program to reverse the digits of a given integer without using any built-in function or slicing. (**Example**: 12345 to 54321). Run the program for 4815162342."
   ]
  },
  {
   "cell_type": "code",
   "execution_count": null,
   "metadata": {},
   "outputs": [],
   "source": [
    "def ex15(num):\n",
    "    t = len(str(num))\n",
    "    step = 0\n",
    "    empty_list = []\n",
    "    a = ''\n",
    "    while step < t:\n",
    "        n = str(num%10)\n",
    "        empty_list.append(n)\n",
    "        num = num//10\n",
    "        step +=1\n",
    "    for i in empty_list: \n",
    "        a += i\n",
    "        \n",
    "    return int(a)\n"
   ]
  },
  {
   "cell_type": "code",
   "execution_count": null,
   "metadata": {},
   "outputs": [],
   "source": [
    "# There is no need to run this chunk of code.\n",
    "ex15(4815162342)"
   ]
  },
  {
   "cell_type": "markdown",
   "metadata": {},
   "source": [
    "***Problem 17:*** Write a function that will find all numbers between A and B (inclusive) such that each digit of the number is even. For example foo(20,26) returns [22,24,26]. Call the function for A=40 and B=140. 0 is even number."
   ]
  },
  {
   "cell_type": "code",
   "execution_count": 181,
   "metadata": {},
   "outputs": [],
   "source": [
    "def ex17(a,b):\n",
    "    list_num = list(range(a+1,b+1))\n",
    "    list_even = []\n",
    "    for num in list_num:\n",
    "        t = len(str(num))\n",
    "        step = 0\n",
    "        i = num\n",
    "        bool_arg = []\n",
    "        while step < t:\n",
    "            bool_arg.append((num%10)%2 == 0)\n",
    "            num = num//10\n",
    "            step = step + 1\n",
    "        if all(bool_arg):\n",
    "            list_even.append(i)\n",
    "    return list_even"
   ]
  },
  {
   "cell_type": "code",
   "execution_count": 183,
   "metadata": {},
   "outputs": [
    {
     "data": {
      "text/plain": [
       "[42, 44, 46, 48, 60, 62, 64, 66, 68, 80, 82, 84, 86, 88]"
      ]
     },
     "execution_count": 183,
     "metadata": {},
     "output_type": "execute_result"
    }
   ],
   "source": [
    "# There is no need to run this chunk of code.\n",
    "ex17(40,140)"
   ]
  },
  {
   "cell_type": "markdown",
   "metadata": {},
   "source": [
    "***Problem 18:*** On basic cell phones numeric keypad is used to write a message. Write a function to output the numerical sequence of the keys to be pressed for any message. For instance, numerical sequence for typing \"P\" will be 7 and for \"I\" 444. Another example, the sequence for \"hello\" will be 4433555555666. Make the input text uppercase before converting to numerical sequence. Call the function for the following input **\"HI DEAR! I WILL BE LATE TODAY.\"**\n",
    "\n",
    "| Key | Symbols |\n",
    "|----|----|\n",
    "|1|. , ? ! :|\n",
    "|2|A B C|\n",
    "|3|D E F|\n",
    "|4|G H I|\n",
    "|5|J K L|\n",
    "|6|M N O|\n",
    "|7|P Q R S|\n",
    "|8|T U V|\n",
    "|9|W X Y Z|\n",
    "|0| space |\n"
   ]
  },
  {
   "cell_type": "code",
   "execution_count": 187,
   "metadata": {},
   "outputs": [],
   "source": [
    "def ex18(a):\n",
    "    phone = {\n",
    "        1: ['.',',','?','!',':'],\n",
    "        2: ['A','B','C'],\n",
    "        3: ['D','E','F'],\n",
    "        4: ['G','H','I'],\n",
    "        5: ['J','K','L'],\n",
    "        6: ['M','N','O'],\n",
    "        7: ['P','Q','R','S'],\n",
    "        8: ['T','U','V'],\n",
    "        9: ['W','X','Y','Z'],\n",
    "        0: [' ']    \n",
    "    }\n",
    "    a = a.upper()\n",
    "    stp = []\n",
    "    code = ''\n",
    "    for i in list(a):\n",
    "        for j in phone:\n",
    "            for k in phone[j]:\n",
    "                if k == i:\n",
    "                    index = phone[j].index(k) + 1\n",
    "                    while index > 0:\n",
    "                        code = code + str(j)\n",
    "                        index = index - 1\n",
    "\n",
    "\n",
    "    return code\n",
    "\n"
   ]
  },
  {
   "cell_type": "code",
   "execution_count": 188,
   "metadata": {},
   "outputs": [
    {
     "name": "stdout",
     "output_type": "stream",
     "text": [
      "266662\n"
     ]
    }
   ],
   "source": [
    "# There is no need to run this chunk of code.\n",
    "print(ex18(\"anna\"))"
   ]
  },
  {
   "cell_type": "markdown",
   "metadata": {},
   "source": [
    "***Problem 20:*** Write a program that accepts a sentence and prints the number of letters and digits in it. Run the program for \"1, 2, 3, 4... Let's run the code!\" "
   ]
  },
  {
   "cell_type": "code",
   "execution_count": 151,
   "metadata": {},
   "outputs": [],
   "source": [
    "def ex20(string):\n",
    "    alph = list(\"abcdefghijklmnopqrstuvwxyz\")\n",
    "    list_char = list(string)\n",
    "    count_d = 0\n",
    "    count_l = 0\n",
    "    for i in list_char:\n",
    "        if i.isdigit():\n",
    "            count_d += 1\n",
    "        for j in alph:\n",
    "            if i.lower() == j:\n",
    "                count_l += 1\n",
    "            \n",
    "    print('Number of digits is', count_d)\n",
    "    print('Number of letters is', count_l)\n",
    "    "
   ]
  },
  {
   "cell_type": "code",
   "execution_count": 152,
   "metadata": {},
   "outputs": [
    {
     "name": "stdout",
     "output_type": "stream",
     "text": [
      "Number of digits is 4\n",
      "Number of letters is 14\n"
     ]
    }
   ],
   "source": [
    "# There is no need to run this chunk of code.\n",
    "ex20(\"1, 2, 3, 4... Let's run the code!\")"
   ]
  },
  {
   "cell_type": "markdown",
   "metadata": {},
   "source": [
    "***Problem 22:*** Two people throw two six-sided fair dices each. The one with greater sum wins, and if the sum is equal, they draw. Write a program that simulates the game and plays 100 time. Print the number of wins of Player 1, Player 2 and draws."
   ]
  },
  {
   "cell_type": "code",
   "execution_count": 291,
   "metadata": {},
   "outputs": [],
   "source": [
    "import random\n",
    "def ex22(times):\n",
    "    wins1 = 0\n",
    "    wins2 = 0\n",
    "    draw = 0\n",
    "    while times > 0:\n",
    "        \n",
    "        player1 = {\n",
    "            'throw1': random.randint(1,7),\n",
    "            'throw2': random.randint(1,7),\n",
    "        }\n",
    "        player2 = {\n",
    "            'throw1': random.randint(1,7),\n",
    "            'throw2': random.randint(1,7),\n",
    "        }\n",
    "        sum1 = player1['throw1'] + player1['throw2']\n",
    "        sum2 = player2['throw1'] + player2['throw2']\n",
    "        if sum1 > sum2:\n",
    "            wins1 += 1\n",
    "        elif sum1 == sum2:\n",
    "            draw += 1\n",
    "        else:\n",
    "            wins2 += 1\n",
    "        times -= 1\n",
    "    print('Player 1 wins', wins1, 'times')\n",
    "    print('Player 2 wins', wins2, 'times')\n",
    "    print('They draw', draw, 'times')\n",
    "    "
   ]
  },
  {
   "cell_type": "code",
   "execution_count": 292,
   "metadata": {},
   "outputs": [
    {
     "name": "stdout",
     "output_type": "stream",
     "text": [
      "Player 1 wins 48 times\n",
      "Player 2 wins 40 times\n",
      "They draw 12 times\n"
     ]
    }
   ],
   "source": [
    "# There is no need to run this chunk of code.\n",
    "ex22(100)"
   ]
  },
  {
   "cell_type": "markdown",
   "metadata": {},
   "source": [
    "***Problem 23:*** Write a program that randomly generates a nine-character password. First 3 characters must be from the set \"let\", second 3 characters from the set \"num\", last three ones from the set \"sym\". Set seed() to 42 and generate a password."
   ]
  },
  {
   "cell_type": "code",
   "execution_count": 297,
   "metadata": {},
   "outputs": [],
   "source": [
    "def ex23():\n",
    "    let = {'A','B','C','a','b','c'}\n",
    "    num = {1,2,3,4,5,6}\n",
    "    sym = {'!','@','#','$','%','^'}\n",
    "\n",
    "    import random\n",
    "    random.seed(42)\n",
    "    password_list = random.sample(let,3) + random.sample(num,3) + random.sample(sym,3)\n",
    "    password = ''.join(str(e) for e in password_list)\n",
    "    return password\n"
   ]
  },
  {
   "cell_type": "code",
   "execution_count": 300,
   "metadata": {},
   "outputs": [
    {
     "data": {
      "text/plain": [
       "'Bca632#$!'"
      ]
     },
     "execution_count": 300,
     "metadata": {},
     "output_type": "execute_result"
    }
   ],
   "source": [
    "# There is no need to run this chunk of code.\n",
    "ex23()"
   ]
  },
  {
   "cell_type": "markdown",
   "metadata": {},
   "source": [
    "\n",
    "***Problem 24:*** Write a program to find all the numbers divisible by 6 but not a multiple of 5 between 100 and 500 (inclusive). Print the numbers as a comma-separated string."
   ]
  },
  {
   "cell_type": "code",
   "execution_count": 246,
   "metadata": {},
   "outputs": [],
   "source": [
    "def ex24():\n",
    "    arr =[x for x in list(range(100,501)) if x % 6 == 0 and x % 5 != 0]\n",
    "    return arr"
   ]
  },
  {
   "cell_type": "code",
   "execution_count": 87,
   "metadata": {},
   "outputs": [
    {
     "data": {
      "text/plain": [
       "[102,\n",
       " 108,\n",
       " 114,\n",
       " 126,\n",
       " 132,\n",
       " 138,\n",
       " 144,\n",
       " 156,\n",
       " 162,\n",
       " 168,\n",
       " 174,\n",
       " 186,\n",
       " 192,\n",
       " 198,\n",
       " 204,\n",
       " 216,\n",
       " 222,\n",
       " 228,\n",
       " 234,\n",
       " 246,\n",
       " 252,\n",
       " 258,\n",
       " 264,\n",
       " 276,\n",
       " 282,\n",
       " 288,\n",
       " 294,\n",
       " 306,\n",
       " 312,\n",
       " 318,\n",
       " 324,\n",
       " 336,\n",
       " 342,\n",
       " 348,\n",
       " 354,\n",
       " 366,\n",
       " 372,\n",
       " 378,\n",
       " 384,\n",
       " 396,\n",
       " 402,\n",
       " 408,\n",
       " 414,\n",
       " 426,\n",
       " 432,\n",
       " 438,\n",
       " 444,\n",
       " 456,\n",
       " 462,\n",
       " 468,\n",
       " 474,\n",
       " 486,\n",
       " 492,\n",
       " 498]"
      ]
     },
     "execution_count": 87,
     "metadata": {},
     "output_type": "execute_result"
    }
   ],
   "source": [
    "# There is no need to run this chunk of code.\n",
    "ex24()"
   ]
  },
  {
   "cell_type": "markdown",
   "metadata": {},
   "source": [
    "***Example 25:*** Write a program that converts \"firstname lastname\" to \"lastname, firstname\", using list comprehensions."
   ]
  },
  {
   "cell_type": "code",
   "execution_count": null,
   "metadata": {},
   "outputs": [],
   "source": [
    "names = ['Հրաչյա Վարդանյան', 'Անուշ Կարապետյան', 'Գոռ Անտոնյան', 'Տաթեւ Հարությունյան', 'Mary Sargsyan']"
   ]
  },
  {
   "cell_type": "code",
   "execution_count": null,
   "metadata": {},
   "outputs": [],
   "source": [
    "def ex25(names):\n",
    "    reversed_names = []\n",
    "    \n",
    "    for i in names:\n",
    "        new_list = i.split()\n",
    "        temp = new_list[0]\n",
    "        new_list[0] = new_list[1]\n",
    "        new_list[1] = temp\n",
    "        full_name = ' '.join(new_list)\n",
    "        reversed_names.append(full_name)\n",
    "    return reversed_names\n",
    "    "
   ]
  },
  {
   "cell_type": "code",
   "execution_count": null,
   "metadata": {},
   "outputs": [],
   "source": [
    "# There is no need to run this chunk of code.\n",
    "ex25(names)"
   ]
  },
  {
   "cell_type": "markdown",
   "metadata": {},
   "source": [
    "***Problem 27:*** Write a function to devide an input list of ages between 0 and 70 into 4 groups.<br><br>\n",
    "Baby Boomers  - (50 to 70 years old]<br>\n",
    "Generation X - (34 to 50 years old]<br>\n",
    "Generation Y - (18 to 34 years old]<br>\n",
    "Generation Z - [0 to 18 years old]<br>\n",
    "\n",
    "Return a dictionary with the following structure:\n",
    "{'Group 1':[ages],'Group 2':[ages],'Group 3':[ages],'Group 4':[ages]}"
   ]
  },
  {
   "cell_type": "code",
   "execution_count": 185,
   "metadata": {},
   "outputs": [],
   "source": [
    "ls = [18,29,3,14,69,10,1,58,52,23,24,5,65,35]\n",
    "def ex27(input):\n",
    "    \n",
    "    keys = ['Baby Boomers', 'Generation X', 'Generation Y', 'Generation Z']\n",
    "    values = []\n",
    "    gr1 = []\n",
    "    gr2 = []\n",
    "    gr3 = []\n",
    "    gr4 = []\n",
    "    index = 1\n",
    "    for i in input:\n",
    "        if i >= 0 and i <= 18:\n",
    "            gr1.append(i)\n",
    "        elif i > 18 and i <= 34:\n",
    "            gr2.append(i)\n",
    "        elif i > 34 and i <= 50:\n",
    "            gr3.append(i)\n",
    "        else:\n",
    "            gr4.append(i)\n",
    "    values.append(gr1)\n",
    "    values.append(gr2)\n",
    "    values.append(gr3)\n",
    "    values.append(gr4)\n",
    "    age_groups = {k:v for k in keys for v in values}\n",
    "    \n",
    "    return age_groups\n",
    "        "
   ]
  },
  {
   "cell_type": "code",
   "execution_count": 301,
   "metadata": {},
   "outputs": [
    {
     "data": {
      "text/plain": [
       "{'Baby Boomers': [69, 58, 52, 65],\n",
       " 'Generation X': [69, 58, 52, 65],\n",
       " 'Generation Y': [69, 58, 52, 65],\n",
       " 'Generation Z': [69, 58, 52, 65]}"
      ]
     },
     "execution_count": 301,
     "metadata": {},
     "output_type": "execute_result"
    }
   ],
   "source": [
    "# There is no need to run this chunk of code.\n",
    "ex27(ls)"
   ]
  }
 ],
 "metadata": {
  "kernelspec": {
   "display_name": "Python 3",
   "language": "python",
   "name": "python3"
  },
  "language_info": {
   "codemirror_mode": {
    "name": "ipython",
    "version": 3
   },
   "file_extension": ".py",
   "mimetype": "text/x-python",
   "name": "python",
   "nbconvert_exporter": "python",
   "pygments_lexer": "ipython3",
   "version": "3.7.1"
  }
 },
 "nbformat": 4,
 "nbformat_minor": 2
}
